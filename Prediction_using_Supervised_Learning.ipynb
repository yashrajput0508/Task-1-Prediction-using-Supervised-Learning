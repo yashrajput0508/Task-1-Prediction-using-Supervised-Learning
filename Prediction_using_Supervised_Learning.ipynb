{
  "nbformat": 4,
  "nbformat_minor": 0,
  "metadata": {
    "colab": {
      "name": "Prediction using Supervised Learning.ipynb",
      "provenance": []
    },
    "kernelspec": {
      "name": "python3",
      "display_name": "Python 3"
    },
    "language_info": {
      "name": "python"
    }
  },
  "cells": [
    {
      "cell_type": "markdown",
      "metadata": {
        "id": "Wxw_h7p15bM9"
      },
      "source": [
        "<h1><B>Intern: Yash </b></h1> "
      ]
    },
    {
      "cell_type": "markdown",
      "metadata": {
        "id": "8O5JQXcv6dEz"
      },
      "source": [
        "\n",
        "# <h1><b>DATA SCIENCE AND BUSINESS ANALYTICS Intern at The Sparks Foundation </b></h1>"
      ]
    },
    {
      "cell_type": "markdown",
      "metadata": {
        "id": "wEkNUOI069kV"
      },
      "source": [
        "<h1><b>Task 1:Prediction using Supervised Learning</b></h1>"
      ]
    },
    {
      "cell_type": "markdown",
      "metadata": {
        "id": "XmCV-gPf7Qhf"
      },
      "source": [
        "1. Importing the libraries"
      ]
    },
    {
      "cell_type": "code",
      "metadata": {
        "id": "Di4ByPan6aXA"
      },
      "source": [
        "import pandas as pd\n",
        "import numpy as np"
      ],
      "execution_count": 1,
      "outputs": []
    },
    {
      "cell_type": "markdown",
      "metadata": {
        "id": "RqmSPVIr7g1Z"
      },
      "source": [
        "2. Importing the data"
      ]
    },
    {
      "cell_type": "code",
      "metadata": {
        "id": "XbTqLgxm7b08"
      },
      "source": [
        "data = pd.read_csv(\"https://raw.githubusercontent.com/AdiPersonalWorks/Random/master/student_scores%20-%20student_scores.csv\")"
      ],
      "execution_count": 2,
      "outputs": []
    },
    {
      "cell_type": "markdown",
      "metadata": {
        "id": "B9K3Reqa7ooI"
      },
      "source": [
        "3. Reading top 5 row of data"
      ]
    },
    {
      "cell_type": "code",
      "metadata": {
        "colab": {
          "base_uri": "https://localhost:8080/",
          "height": 204
        },
        "id": "HHnX3iix7mK3",
        "outputId": "5c69fd13-e498-4926-f5b3-1da036cab7cb"
      },
      "source": [
        "data.head()"
      ],
      "execution_count": 3,
      "outputs": [
        {
          "output_type": "execute_result",
          "data": {
            "text/html": [
              "<div>\n",
              "<style scoped>\n",
              "    .dataframe tbody tr th:only-of-type {\n",
              "        vertical-align: middle;\n",
              "    }\n",
              "\n",
              "    .dataframe tbody tr th {\n",
              "        vertical-align: top;\n",
              "    }\n",
              "\n",
              "    .dataframe thead th {\n",
              "        text-align: right;\n",
              "    }\n",
              "</style>\n",
              "<table border=\"1\" class=\"dataframe\">\n",
              "  <thead>\n",
              "    <tr style=\"text-align: right;\">\n",
              "      <th></th>\n",
              "      <th>Hours</th>\n",
              "      <th>Scores</th>\n",
              "    </tr>\n",
              "  </thead>\n",
              "  <tbody>\n",
              "    <tr>\n",
              "      <th>0</th>\n",
              "      <td>2.5</td>\n",
              "      <td>21</td>\n",
              "    </tr>\n",
              "    <tr>\n",
              "      <th>1</th>\n",
              "      <td>5.1</td>\n",
              "      <td>47</td>\n",
              "    </tr>\n",
              "    <tr>\n",
              "      <th>2</th>\n",
              "      <td>3.2</td>\n",
              "      <td>27</td>\n",
              "    </tr>\n",
              "    <tr>\n",
              "      <th>3</th>\n",
              "      <td>8.5</td>\n",
              "      <td>75</td>\n",
              "    </tr>\n",
              "    <tr>\n",
              "      <th>4</th>\n",
              "      <td>3.5</td>\n",
              "      <td>30</td>\n",
              "    </tr>\n",
              "  </tbody>\n",
              "</table>\n",
              "</div>"
            ],
            "text/plain": [
              "   Hours  Scores\n",
              "0    2.5      21\n",
              "1    5.1      47\n",
              "2    3.2      27\n",
              "3    8.5      75\n",
              "4    3.5      30"
            ]
          },
          "metadata": {},
          "execution_count": 3
        }
      ]
    },
    {
      "cell_type": "markdown",
      "metadata": {
        "id": "pJSMaDax8NeB"
      },
      "source": [
        "4. Ploting the scatter plot graph"
      ]
    },
    {
      "cell_type": "code",
      "metadata": {
        "id": "acLTO3Ci7uUy"
      },
      "source": [
        "import seaborn as sns\n"
      ],
      "execution_count": 4,
      "outputs": []
    },
    {
      "cell_type": "code",
      "metadata": {
        "colab": {
          "base_uri": "https://localhost:8080/",
          "height": 296
        },
        "id": "toErWMjv8EWn",
        "outputId": "4ae721a9-6ce2-4857-e2a5-af6e456aee83"
      },
      "source": [
        "sns.regplot(x='Hours', y = 'Scores', data=data)"
      ],
      "execution_count": 5,
      "outputs": [
        {
          "output_type": "execute_result",
          "data": {
            "text/plain": [
              "<matplotlib.axes._subplots.AxesSubplot at 0x7efe571a2810>"
            ]
          },
          "metadata": {},
          "execution_count": 5
        },
        {
          "output_type": "display_data",
          "data": {
            "image/png": "[encoded data removed]",
            "text/plain": [
              "<Figure size 432x288 with 1 Axes>"
            ]
          },
          "metadata": {
            "needs_background": "light"
          }
        }
      ]
    },
    {
      "cell_type": "markdown",
      "metadata": {
        "id": "ej6v3yXu8f_V"
      },
      "source": [
        "5. Split the data into training and testing data set"
      ]
    },
    {
      "cell_type": "code",
      "metadata": {
        "id": "vmUieZ_38Lj9"
      },
      "source": [
        "from sklearn.model_selection import train_test_split"
      ],
      "execution_count": 6,
      "outputs": []
    },
    {
      "cell_type": "code",
      "metadata": {
        "id": "PPY95VWY8r9b"
      },
      "source": [
        "x = data[['Hours']]\n",
        "y = data['Scores']"
      ],
      "execution_count": 7,
      "outputs": []
    },
    {
      "cell_type": "code",
      "metadata": {
        "id": "PdFemWHf8v_b"
      },
      "source": [
        "x_train, x_test, y_train, y_test = train_test_split(x, y, random_state = 2, test_size = 0.1)"
      ],
      "execution_count": 8,
      "outputs": []
    },
    {
      "cell_type": "markdown",
      "metadata": {
        "id": "zA8ExiPg88Zc"
      },
      "source": [
        "6. Training the data using linear regression algorithm"
      ]
    },
    {
      "cell_type": "code",
      "metadata": {
        "id": "JdaUCxoK8649"
      },
      "source": [
        "from sklearn.linear_model import LinearRegression"
      ],
      "execution_count": 9,
      "outputs": []
    },
    {
      "cell_type": "code",
      "metadata": {
        "colab": {
          "base_uri": "https://localhost:8080/"
        },
        "id": "K8nws3fE9HVs",
        "outputId": "e8b2248d-d9d8-455f-b22a-4bf91ae5cf55"
      },
      "source": [
        "lr = LinearRegression()\n",
        "lr.fit(x_train, y_train)"
      ],
      "execution_count": 10,
      "outputs": [
        {
          "output_type": "execute_result",
          "data": {
            "text/plain": [
              "LinearRegression(copy_X=True, fit_intercept=True, n_jobs=None, normalize=False)"
            ]
          },
          "metadata": {},
          "execution_count": 10
        }
      ]
    },
    {
      "cell_type": "markdown",
      "metadata": {
        "id": "R9gnV4xd-NMC"
      },
      "source": [
        "7. Testing the score of our model\n",
        "\n",
        "> Indented block\n",
        "\n"
      ]
    },
    {
      "cell_type": "code",
      "metadata": {
        "colab": {
          "base_uri": "https://localhost:8080/"
        },
        "id": "n9qCczRl9Lwa",
        "outputId": "ec34631a-37e9-49e2-f41a-66d6c085655c"
      },
      "source": [
        "from sklearn.metrics import r2_score\n",
        "r2_score(lr.predict(x_test), y_test)"
      ],
      "execution_count": 11,
      "outputs": [
        {
          "output_type": "execute_result",
          "data": {
            "text/plain": [
              "0.37642485931585257"
            ]
          },
          "metadata": {},
          "execution_count": 11
        }
      ]
    },
    {
      "cell_type": "markdown",
      "metadata": {
        "id": "uhzaEN6b_Vqg"
      },
      "source": [
        "8. Question : What will be the predicted score if the student studies for 9.25 hrs/day?"
      ]
    },
    {
      "cell_type": "code",
      "metadata": {
        "colab": {
          "base_uri": "https://localhost:8080/"
        },
        "id": "2QZ-FXVd-XFo",
        "outputId": "df91686f-173c-4678-81e3-dd738f21d053"
      },
      "source": [
        "data = pd.DataFrame({'Hours':[9.25]})\n",
        "lr.predict(data)"
      ],
      "execution_count": 12,
      "outputs": [
        {
          "output_type": "execute_result",
          "data": {
            "text/plain": [
              "array([93.17638805])"
            ]
          },
          "metadata": {},
          "execution_count": 12
        }
      ]
    },
    {
      "cell_type": "code",
      "metadata": {
        "id": "WMcxT5IP_3he"
      },
      "source": [
        ""
      ],
      "execution_count": 12,
      "outputs": []
    }
  ]
}